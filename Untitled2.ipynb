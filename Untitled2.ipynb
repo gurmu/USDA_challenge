{
 "cells": [
  {
   "cell_type": "code",
   "execution_count": 3,
   "id": "5be40997-d498-4fe9-adf7-d9ba08499967",
   "metadata": {},
   "outputs": [
    {
     "name": "stdout",
     "output_type": "stream",
     "text": [
      "Downloading file:  1\n",
      "File  1  downloaded\n",
      "All PDF files downloaded\n"
     ]
    }
   ],
   "source": [
    "# Import libraries\n",
    "import requests\n",
    "from bs4 import BeautifulSoup\n",
    " \n",
    "# URL from which pdfs to be downloaded\n",
    "url = \"https://www.geeksforgeeks.org/how-to-extract-pdf-tables-in-python/\"\n",
    " \n",
    "# Requests URL and get response object\n",
    "response = requests.get(url)\n",
    " \n",
    "# Parse text obtained\n",
    "soup = BeautifulSoup(response.text, 'html.parser')\n",
    " \n",
    "# Find all hyperlinks present on webpage\n",
    "links = soup.find_all('a')\n",
    " \n",
    "i = 0\n",
    " \n",
    "# From all links check for pdf link and\n",
    "# if present download file\n",
    "for link in links:\n",
    "    if ('.pdf' in link.get('href', [])):\n",
    "        i += 1\n",
    "        print(\"Downloading file: \", i)\n",
    " \n",
    "        # Get response object for link\n",
    "        response = requests.get(link.get('href'))\n",
    " \n",
    "        # Write content in pdf file\n",
    "        pdf = open(\"pdf\"+str(i)+\".pdf\", 'wb')\n",
    "        pdf.write(response.content)\n",
    "        pdf.close()\n",
    "        print(\"File \", i, \" downloaded\")\n",
    " \n",
    "print(\"All PDF files downloaded\")"
   ]
  },
  {
   "cell_type": "code",
   "execution_count": 2,
   "id": "25d432a3-3280-4526-9d4d-d8d6be89bcdc",
   "metadata": {},
   "outputs": [
    {
     "ename": "NameError",
     "evalue": "name 'urlopen' is not defined",
     "output_type": "error",
     "traceback": [
      "\u001b[0;31m---------------------------------------------------------------------------\u001b[0m",
      "\u001b[0;31mNameError\u001b[0m                                 Traceback (most recent call last)",
      "\u001b[0;32m/var/folders/8l/2b2rpl1d28n6ygfclrc_kmhr0000gn/T/ipykernel_54504/3700300125.py\u001b[0m in \u001b[0;36m<module>\u001b[0;34m\u001b[0m\n\u001b[0;32m----> 1\u001b[0;31m \u001b[0mhtml\u001b[0m \u001b[0;34m=\u001b[0m \u001b[0murlopen\u001b[0m\u001b[0;34m(\u001b[0m\u001b[0mmy_url\u001b[0m\u001b[0;34m)\u001b[0m\u001b[0;34m.\u001b[0m\u001b[0mread\u001b[0m\u001b[0;34m(\u001b[0m\u001b[0;34m'https://www.fsis.usda.gov//policy//fsis-guidelines'\u001b[0m\u001b[0;34m)\u001b[0m\u001b[0;34m\u001b[0m\u001b[0;34m\u001b[0m\u001b[0m\n\u001b[0m",
      "\u001b[0;31mNameError\u001b[0m: name 'urlopen' is not defined"
     ]
    }
   ],
   "source": [
    "html = urlopen(my_url).read('https://www.fsis.usda.gov//policy//fsis-guidelines')"
   ]
  },
  {
   "cell_type": "code",
   "execution_count": null,
   "id": "34776139-fb2d-4e73-a307-d6275fc5f55d",
   "metadata": {},
   "outputs": [],
   "source": []
  }
 ],
 "metadata": {
  "kernelspec": {
   "display_name": "Python 3 (ipykernel)",
   "language": "python",
   "name": "python3"
  },
  "language_info": {
   "codemirror_mode": {
    "name": "ipython",
    "version": 3
   },
   "file_extension": ".py",
   "mimetype": "text/x-python",
   "name": "python",
   "nbconvert_exporter": "python",
   "pygments_lexer": "ipython3",
   "version": "3.9.13"
  }
 },
 "nbformat": 4,
 "nbformat_minor": 5
}
