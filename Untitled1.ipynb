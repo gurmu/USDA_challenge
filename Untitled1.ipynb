{
 "cells": [
  {
   "cell_type": "code",
   "execution_count": null,
   "id": "606b2791-2e18-44e1-8976-c94306196992",
   "metadata": {},
   "outputs": [],
   "source": [
    "from transformers import pipeline, set_seed\n",
    "\n",
    "# Load the pre-trained GPT-2 model\n",
    "generator = pipeline('text-generation', model='gpt2')"
   ]
  },
  {
   "cell_type": "code",
   "execution_count": 2,
   "id": "4db82843-1ac2-4289-9ebe-7aa692006e3a",
   "metadata": {},
   "outputs": [
    {
     "name": "stdout",
     "output_type": "stream",
     "text": [
      "Collecting transformers\n",
      "  Downloading transformers-4.26.1-py3-none-any.whl (6.3 MB)\n",
      "\u001b[2K     \u001b[90m━━━━━━━━━━━━━━━━━━━━━━━━━━━━━━━━━━━━━━━━\u001b[0m \u001b[32m6.3/6.3 MB\u001b[0m \u001b[31m29.0 MB/s\u001b[0m eta \u001b[36m0:00:00\u001b[0m00:01\u001b[0m00:01\u001b[0m\n",
      "\u001b[?25hRequirement already satisfied: regex!=2019.12.17 in /Users/agurmu/opt/anaconda3/lib/python3.9/site-packages (from transformers) (2022.7.9)\n",
      "Requirement already satisfied: packaging>=20.0 in /Users/agurmu/opt/anaconda3/lib/python3.9/site-packages (from transformers) (21.3)\n",
      "Requirement already satisfied: filelock in /Users/agurmu/opt/anaconda3/lib/python3.9/site-packages (from transformers) (3.6.0)\n",
      "Requirement already satisfied: tqdm>=4.27 in /Users/agurmu/opt/anaconda3/lib/python3.9/site-packages (from transformers) (4.64.1)\n",
      "Requirement already satisfied: numpy>=1.17 in /Users/agurmu/opt/anaconda3/lib/python3.9/site-packages (from transformers) (1.21.5)\n",
      "Requirement already satisfied: pyyaml>=5.1 in /Users/agurmu/opt/anaconda3/lib/python3.9/site-packages (from transformers) (6.0)\n",
      "Requirement already satisfied: requests in /Users/agurmu/opt/anaconda3/lib/python3.9/site-packages (from transformers) (2.28.1)\n",
      "Collecting tokenizers!=0.11.3,<0.14,>=0.11.1\n",
      "  Using cached tokenizers-0.13.2-cp39-cp39-macosx_10_11_x86_64.whl (3.8 MB)\n",
      "Collecting huggingface-hub<1.0,>=0.11.0\n",
      "  Using cached huggingface_hub-0.12.1-py3-none-any.whl (190 kB)\n",
      "Requirement already satisfied: typing-extensions>=3.7.4.3 in /Users/agurmu/opt/anaconda3/lib/python3.9/site-packages (from huggingface-hub<1.0,>=0.11.0->transformers) (4.3.0)\n",
      "Requirement already satisfied: pyparsing!=3.0.5,>=2.0.2 in /Users/agurmu/opt/anaconda3/lib/python3.9/site-packages (from packaging>=20.0->transformers) (3.0.9)\n",
      "Requirement already satisfied: urllib3<1.27,>=1.21.1 in /Users/agurmu/opt/anaconda3/lib/python3.9/site-packages (from requests->transformers) (1.26.11)\n",
      "Requirement already satisfied: charset-normalizer<3,>=2 in /Users/agurmu/opt/anaconda3/lib/python3.9/site-packages (from requests->transformers) (2.0.4)\n",
      "Requirement already satisfied: idna<4,>=2.5 in /Users/agurmu/opt/anaconda3/lib/python3.9/site-packages (from requests->transformers) (3.3)\n",
      "Requirement already satisfied: certifi>=2017.4.17 in /Users/agurmu/opt/anaconda3/lib/python3.9/site-packages (from requests->transformers) (2022.9.24)\n",
      "Installing collected packages: tokenizers, huggingface-hub, transformers\n",
      "Successfully installed huggingface-hub-0.12.1 tokenizers-0.13.2 transformers-4.26.1\n",
      "Note: you may need to restart the kernel to use updated packages.\n"
     ]
    }
   ],
   "source": [
    "pip install transformers"
   ]
  },
  {
   "cell_type": "code",
   "execution_count": 1,
   "id": "84dfae8e-724c-4afc-8154-4c2da0f89b8b",
   "metadata": {},
   "outputs": [
    {
     "data": {
      "text/html": [
       "<p>To authorize access needed by Earth Engine, open the following\n",
       "        URL in a web browser and follow the instructions:</p>\n",
       "        <p><a href=https://code.earthengine.google.com/client-auth?scopes=https%3A//www.googleapis.com/auth/earthengine%20https%3A//www.googleapis.com/auth/devstorage.full_control&request_id=q-BcPqFqcqqpfX6AZKfCtLQoTNLrlhwuiFzqHzlehzU&tc=eKj4TcjaL9OzfIJyHQF7FCRTnjHY6H5FJrDN4Sl0ieA&cc=UBsqj_TPTwirU9c2MkCuc111mLmGFDTBZtcbIVDdp_Y>https://code.earthengine.google.com/client-auth?scopes=https%3A//www.googleapis.com/auth/earthengine%20https%3A//www.googleapis.com/auth/devstorage.full_control&request_id=q-BcPqFqcqqpfX6AZKfCtLQoTNLrlhwuiFzqHzlehzU&tc=eKj4TcjaL9OzfIJyHQF7FCRTnjHY6H5FJrDN4Sl0ieA&cc=UBsqj_TPTwirU9c2MkCuc111mLmGFDTBZtcbIVDdp_Y</a></p>\n",
       "        <p>The authorization workflow will generate a code, which you should paste in the box below.</p>\n",
       "        "
      ],
      "text/plain": [
       "<IPython.core.display.HTML object>"
      ]
     },
     "metadata": {},
     "output_type": "display_data"
    },
    {
     "name": "stdin",
     "output_type": "stream",
     "text": [
      "Enter verification code:  4/1AWtgzh6oUxC9IL-mxgnGuapcb3eSUcx5H40sqLvOtIavxSBJ21Menu24ZZM\n"
     ]
    },
    {
     "name": "stdout",
     "output_type": "stream",
     "text": [
      "\n",
      "Successfully saved authorization token.\n"
     ]
    },
    {
     "ename": "AttributeError",
     "evalue": "type object 'Image' has no attribute 'linearRegression'",
     "output_type": "error",
     "traceback": [
      "\u001b[0;31m---------------------------------------------------------------------------\u001b[0m",
      "\u001b[0;31mAttributeError\u001b[0m                            Traceback (most recent call last)",
      "\u001b[0;32m/var/folders/8l/2b2rpl1d28n6ygfclrc_kmhr0000gn/T/ipykernel_3383/4144366647.py\u001b[0m in \u001b[0;36m<module>\u001b[0;34m\u001b[0m\n\u001b[1;32m     48\u001b[0m \u001b[0;34m\u001b[0m\u001b[0m\n\u001b[1;32m     49\u001b[0m \u001b[0;31m# Train model\u001b[0m\u001b[0;34m\u001b[0m\u001b[0;34m\u001b[0m\u001b[0m\n\u001b[0;32m---> 50\u001b[0;31m \u001b[0mmodel\u001b[0m \u001b[0;34m=\u001b[0m \u001b[0mee\u001b[0m\u001b[0;34m.\u001b[0m\u001b[0mImage\u001b[0m\u001b[0;34m.\u001b[0m\u001b[0mlinearRegression\u001b[0m\u001b[0;34m(\u001b[0m\u001b[0mX_train\u001b[0m\u001b[0;34m,\u001b[0m \u001b[0my_train\u001b[0m\u001b[0;34m)\u001b[0m\u001b[0;34m\u001b[0m\u001b[0;34m\u001b[0m\u001b[0m\n\u001b[0m\u001b[1;32m     51\u001b[0m \u001b[0mcoefficients\u001b[0m \u001b[0;34m=\u001b[0m \u001b[0mmodel\u001b[0m\u001b[0;34m.\u001b[0m\u001b[0mselect\u001b[0m\u001b[0;34m(\u001b[0m\u001b[0;34m\"coefficients\"\u001b[0m\u001b[0;34m)\u001b[0m\u001b[0;34m\u001b[0m\u001b[0;34m\u001b[0m\u001b[0m\n\u001b[1;32m     52\u001b[0m \u001b[0;34m\u001b[0m\u001b[0m\n",
      "\u001b[0;31mAttributeError\u001b[0m: type object 'Image' has no attribute 'linearRegression'"
     ]
    }
   ],
   "source": [
    "import ee\n",
    "\n",
    "# Authenticate and initialize Earth Engine API\n",
    "ee.Authenticate()\n",
    "ee.Initialize()\n",
    "\n",
    "# Define study area\n",
    "georgia = ee.FeatureCollection(\"TIGER/2018/States\").filter(ee.Filter.eq(\"NAME\", \"Georgia\"))\n",
    "\n",
    "# Load datasets\n",
    "# Sentinel-5P dataset for CO concentration\n",
    "s5p = ee.ImageCollection(\"COPERNICUS/S5P/OFFL/L3_CO\").filterDate(\"2021-01-01\", \"2022-01-01\").select(\"CO_column_number_density\")\n",
    "# Sentinel-2 dataset for land cover\n",
    "s2 = ee.ImageCollection(\"COPERNICUS/S2_SR\").filterDate(\"2021-01-01\", \"2022-01-01\").select([\"B2\", \"B3\", \"B4\", \"B8\"])\n",
    "\n",
    "# Preprocess datasets\n",
    "# Filter by study area\n",
    "s5p = s5p.filterBounds(georgia)\n",
    "s2 = s2.filterBounds(georgia)\n",
    "\n",
    "# Clip to study area\n",
    "s5p = s5p.map(lambda img: img.clip(georgia))\n",
    "s2 = s2.map(lambda img: img.clip(georgia))\n",
    "\n",
    "# Reproject to same projection and resolution\n",
    "crs = s5p.first().projection().crs()\n",
    "s2 = s2.map(lambda img: img.reproject(crs=crs, scale=10))\n",
    "\n",
    "# Extract features and response variable\n",
    "# Extract CO concentration\n",
    "co = s5p.reduce(ee.Reducer.mean())\n",
    "\n",
    "# Extract land cover features\n",
    "lc = s2.reduce(ee.Reducer.mean())\n",
    "\n",
    "# Combine into a single image\n",
    "data = co.addBands(lc)\n",
    "\n",
    "# Split data into training and testing datasets\n",
    "split = data.sample(region=georgia, scale=10, numPixels=1000, seed=1)\n",
    "train = split.filter(ee.Filter.lt(\"random\", 0.8))\n",
    "test = split.filter(ee.Filter.gte(\"random\", 0.8))\n",
    "\n",
    "# Train machine learning model\n",
    "# Prepare training data\n",
    "X_train = train.select([\"B2\", \"B3\", \"B4\", \"B8\"])\n",
    "y_train = train.select(\"CO_column_number_density\")\n",
    "\n",
    "# Train model\n",
    "model = ee.Image.linearRegression(X_train, y_train)\n",
    "coefficients = model.select(\"coefficients\")\n",
    "\n",
    "# Evaluate model\n",
    "# Prepare testing data\n",
    "X_test = test.select([\"B2\", \"B3\", \"B4\", \"B8\"])\n",
    "y_test = test.select(\"CO_column_number_density\")\n",
    "\n",
    "# Predict CO concentration\n",
    "predictions = X_test.multiply(coefficients).reduce(ee.Reducer.sum()).rename(\"predictions\")\n",
    "\n",
    "# Compute evaluation metrics\n",
    "test_rmse = predictions.subtract(y_test).pow(2).reduce(ee.Reducer.mean()).sqrt()\n",
    "test_r2 = predictions.multiply(y_test).reduce(ee.Reducer.mean()).pow(2)\n",
    "\n",
    "# Print results\n",
    "print(\"Test RMSE:\", test_rmse.getInfo())\n",
    "print(\"Test R-squared:\", test_r2.getInfo())\n"
   ]
  },
  {
   "cell_type": "code",
   "execution_count": null,
   "id": "6556b575-e330-4874-b89b-027cd0db81f2",
   "metadata": {},
   "outputs": [],
   "source": [
    "# Define a function to generate responses from the chatbot\n",
    "def generate_response(user_input):\n",
    "    # Generate a response from the chatbot\n",
    "    response = generator(user_input, max_length=100, num_return_sequences=1)[0]['generated_text']\n",
    "    # Return the response without the user input\n",
    "    return response.replace(user_input, '', 1).strip()\n",
    "\n",
    "# Start the chatbot loop\n",
    "while True:\n",
    "    # Get input from the user\n",
    "    user_input = input(\"User: \")\n",
    "    # Generate a response from the chatbot\n",
    "    chatbot_response = generate_response(user_input)\n",
    "    # Print the chatbot response\n",
    "    print(\"Chatbot:\", chatbot_response)"
   ]
  }
 ],
 "metadata": {
  "kernelspec": {
   "display_name": "Python 3 (ipykernel)",
   "language": "python",
   "name": "python3"
  },
  "language_info": {
   "codemirror_mode": {
    "name": "ipython",
    "version": 3
   },
   "file_extension": ".py",
   "mimetype": "text/x-python",
   "name": "python",
   "nbconvert_exporter": "python",
   "pygments_lexer": "ipython3",
   "version": "3.9.13"
  }
 },
 "nbformat": 4,
 "nbformat_minor": 5
}
