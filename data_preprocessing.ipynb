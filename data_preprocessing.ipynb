{
 "cells": [
  {
   "cell_type": "code",
   "execution_count": 1,
   "id": "5e94e157-6dd1-4e93-983d-e6035c3f6f6f",
   "metadata": {},
   "outputs": [],
   "source": [
    "import pandas as pd"
   ]
  },
  {
   "cell_type": "code",
   "execution_count": 2,
   "id": "98bbec72-97a4-4711-b6af-a81be4203183",
   "metadata": {},
   "outputs": [],
   "source": [
    "# read the csv into a pandas dataframe\n",
    "df = pd.read_csv('fsis_corpus.csv')"
   ]
  },
  {
   "cell_type": "code",
   "execution_count": 3,
   "id": "b2d0af86-f1fd-4635-819a-47456167925b",
   "metadata": {},
   "outputs": [
    {
     "data": {
      "text/plain": [
       "(133, 3)"
      ]
     },
     "execution_count": 3,
     "metadata": {},
     "output_type": "execute_result"
    }
   ],
   "source": [
    "# check out how many row and columns out dataframe has\n",
    "df.shape"
   ]
  },
  {
   "cell_type": "code",
   "execution_count": 4,
   "id": "da38bfc5-bc9b-4d11-b534-de7b8ac77f40",
   "metadata": {},
   "outputs": [
    {
     "data": {
      "text/html": [
       "<div>\n",
       "<style scoped>\n",
       "    .dataframe tbody tr th:only-of-type {\n",
       "        vertical-align: middle;\n",
       "    }\n",
       "\n",
       "    .dataframe tbody tr th {\n",
       "        vertical-align: top;\n",
       "    }\n",
       "\n",
       "    .dataframe thead th {\n",
       "        text-align: right;\n",
       "    }\n",
       "</style>\n",
       "<table border=\"1\" class=\"dataframe\">\n",
       "  <thead>\n",
       "    <tr style=\"text-align: right;\">\n",
       "      <th></th>\n",
       "      <th>Unnamed: 0</th>\n",
       "      <th>text_by_page</th>\n",
       "      <th>n_pages</th>\n",
       "    </tr>\n",
       "  </thead>\n",
       "  <tbody>\n",
       "    <tr>\n",
       "      <th>0</th>\n",
       "      <td>0</td>\n",
       "      <td>[\"Propietary Mixture Suppliers and Manufacture...</td>\n",
       "      <td>15</td>\n",
       "    </tr>\n",
       "    <tr>\n",
       "      <th>1</th>\n",
       "      <td>1</td>\n",
       "      <td>['Guidelines for Escherichia coli Testing for ...</td>\n",
       "      <td>22</td>\n",
       "    </tr>\n",
       "    <tr>\n",
       "      <th>2</th>\n",
       "      <td>2</td>\n",
       "      <td>['--------------------------------------------...</td>\n",
       "      <td>20</td>\n",
       "    </tr>\n",
       "    <tr>\n",
       "      <th>3</th>\n",
       "      <td>3</td>\n",
       "      <td>[\"Letter to Industry - July 13, 1998 Dear Sir ...</td>\n",
       "      <td>2</td>\n",
       "    </tr>\n",
       "    <tr>\n",
       "      <th>4</th>\n",
       "      <td>4</td>\n",
       "      <td>['Food Safety and Inspection Service United St...</td>\n",
       "      <td>2</td>\n",
       "    </tr>\n",
       "  </tbody>\n",
       "</table>\n",
       "</div>"
      ],
      "text/plain": [
       "   Unnamed: 0                                       text_by_page  n_pages\n",
       "0           0  [\"Propietary Mixture Suppliers and Manufacture...       15\n",
       "1           1  ['Guidelines for Escherichia coli Testing for ...       22\n",
       "2           2  ['--------------------------------------------...       20\n",
       "3           3  [\"Letter to Industry - July 13, 1998 Dear Sir ...        2\n",
       "4           4  ['Food Safety and Inspection Service United St...        2"
      ]
     },
     "execution_count": 4,
     "metadata": {},
     "output_type": "execute_result"
    }
   ],
   "source": [
    "df.head()"
   ]
  },
  {
   "cell_type": "code",
   "execution_count": 17,
   "id": "1c3f9965-6408-4051-96fa-771e3c739054",
   "metadata": {},
   "outputs": [],
   "source": [
    "# Create a DataFrame using pandas\n",
    "new_df = df['text_by_page'].iloc[0]"
   ]
  },
  {
   "cell_type": "code",
   "execution_count": 19,
   "id": "5c6c350b-b2da-44ed-ab5f-56366f765424",
   "metadata": {},
   "outputs": [],
   "source": [
    "# Create new pandas DataFrame.\n",
    "df2 = df[['text_by_page','n_pages']].iloc[0]"
   ]
  },
  {
   "cell_type": "code",
   "execution_count": 20,
   "id": "d77f0da1-3e9a-4755-9cb1-91846f9100a0",
   "metadata": {},
   "outputs": [
    {
     "data": {
      "text/plain": [
       "text_by_page    [\"Propietary Mixture Suppliers and Manufacture...\n",
       "n_pages                                                        15\n",
       "Name: 0, dtype: object"
      ]
     },
     "execution_count": 20,
     "metadata": {},
     "output_type": "execute_result"
    }
   ],
   "source": [
    "df2.head()"
   ]
  },
  {
   "cell_type": "code",
   "execution_count": 21,
   "id": "ece7d1d8-b5fb-4d44-b035-b9cc08835954",
   "metadata": {},
   "outputs": [],
   "source": [
    "df2.to_csv('Propietary_Mixture_Suppliers_Manufacturers_FAQ.csv')"
   ]
  },
  {
   "cell_type": "code",
   "execution_count": 22,
   "id": "d6ebf5c5-8655-4179-addf-26b974a2fc06",
   "metadata": {},
   "outputs": [],
   "source": [
    "df3 = df[['text_by_page','n_pages']].iloc[1]"
   ]
  },
  {
   "cell_type": "code",
   "execution_count": 27,
   "id": "2319220a-04a9-4711-8811-73e6dbce566e",
   "metadata": {},
   "outputs": [
    {
     "data": {
      "text/plain": [
       "text_by_page    ['Guidelines for Escherichia coli Testing for ...\n",
       "n_pages                                                        22\n",
       "Name: 1, dtype: object"
      ]
     },
     "execution_count": 27,
     "metadata": {},
     "output_type": "execute_result"
    }
   ],
   "source": [
    "df3.head()"
   ]
  },
  {
   "cell_type": "code",
   "execution_count": 28,
   "id": "e7ad9f10-bc0b-45c1-80b8-f75542b01f2e",
   "metadata": {},
   "outputs": [],
   "source": [
    "df3.to_csv('Escherichia_coli_Testing.csv')"
   ]
  },
  {
   "cell_type": "code",
   "execution_count": 29,
   "id": "deb25a11-d65e-4cbc-bc19-975ff69e13fe",
   "metadata": {},
   "outputs": [],
   "source": [
    "df4 = df[['text_by_page','n_pages']].iloc[2]"
   ]
  },
  {
   "cell_type": "code",
   "execution_count": 32,
   "id": "f2d65b83-d10b-4398-9d2f-9d274d75143e",
   "metadata": {},
   "outputs": [
    {
     "data": {
      "text/plain": [
       "text_by_page    ['--------------------------------------------...\n",
       "n_pages                                                        20\n",
       "Name: 2, dtype: object"
      ]
     },
     "execution_count": 32,
     "metadata": {},
     "output_type": "execute_result"
    }
   ],
   "source": [
    "df4.head()"
   ]
  },
  {
   "cell_type": "code",
   "execution_count": 33,
   "id": "21707bd8-b429-43c4-8f18-d74cf9601a85",
   "metadata": {},
   "outputs": [],
   "source": [
    "df4.to_csv('Poultry_Slaughter_Establishments.csv')"
   ]
  },
  {
   "cell_type": "code",
   "execution_count": 34,
   "id": "b799a8b2-514a-4d9c-b555-606aa4a7d32d",
   "metadata": {},
   "outputs": [],
   "source": [
    "df5 = df[['text_by_page','n_pages']].iloc[3]"
   ]
  },
  {
   "cell_type": "code",
   "execution_count": 37,
   "id": "6d7fde84-800d-4b90-a996-5490375573ac",
   "metadata": {},
   "outputs": [
    {
     "data": {
      "text/plain": [
       "text_by_page    [\"Letter to Industry - July 13, 1998 Dear Sir ...\n",
       "n_pages                                                         2\n",
       "Name: 3, dtype: object"
      ]
     },
     "execution_count": 37,
     "metadata": {},
     "output_type": "execute_result"
    }
   ],
   "source": [
    "df5.head()"
   ]
  },
  {
   "cell_type": "code",
   "execution_count": 38,
   "id": "d93c44cd-940b-45d0-ba74-2c7228945038",
   "metadata": {},
   "outputs": [],
   "source": [
    "df5.to_csv('Letter_Industry.csv')"
   ]
  },
  {
   "cell_type": "code",
   "execution_count": 39,
   "id": "3359284e-27d8-4e4d-91c6-ebc71f95d649",
   "metadata": {},
   "outputs": [],
   "source": [
    "df6 = df[['text_by_page','n_pages']].iloc[4]"
   ]
  },
  {
   "cell_type": "code",
   "execution_count": 40,
   "id": "717202d8-b56d-4304-aa8f-4a5a42070da5",
   "metadata": {},
   "outputs": [
    {
     "data": {
      "text/plain": [
       "text_by_page    ['Food Safety and Inspection Service United St...\n",
       "n_pages                                                         2\n",
       "Name: 4, dtype: object"
      ]
     },
     "execution_count": 40,
     "metadata": {},
     "output_type": "execute_result"
    }
   ],
   "source": [
    "df6.head()"
   ]
  },
  {
   "cell_type": "code",
   "execution_count": 41,
   "id": "60b50c69-e3cb-452b-aa85-8df91fe3eefd",
   "metadata": {},
   "outputs": [],
   "source": [
    "df6.to_csv('Food_Safety_Inspection.csv')"
   ]
  },
  {
   "cell_type": "code",
   "execution_count": 42,
   "id": "d46511e8-d82e-4490-b809-ed089bfc5b3a",
   "metadata": {},
   "outputs": [],
   "source": [
    "df7 = df[['text_by_page','n_pages']].iloc[5]"
   ]
  },
  {
   "cell_type": "code",
   "execution_count": 55,
   "id": "e3db6861-9cda-45df-9674-e0474ab5810a",
   "metadata": {},
   "outputs": [
    {
     "data": {
      "text/plain": [
       "text_by_page    ['1 FSIS has developed the following guidance ...\n",
       "n_pages                                                        15\n",
       "Name: 5, dtype: object"
      ]
     },
     "execution_count": 55,
     "metadata": {},
     "output_type": "execute_result"
    }
   ],
   "source": [
    "df7.head()"
   ]
  },
  {
   "cell_type": "code",
   "execution_count": 46,
   "id": "e3598098-3b0e-4e95-83ab-b013b9d33211",
   "metadata": {},
   "outputs": [],
   "source": [
    "df7.to_csv('water_ice_solution.csv')"
   ]
  },
  {
   "cell_type": "code",
   "execution_count": 47,
   "id": "cb996502-3331-409e-8920-08a42e542371",
   "metadata": {},
   "outputs": [],
   "source": [
    "df8 = df[['text_by_page','n_pages']].iloc[6]\n",
    "df9 = df[['text_by_page','n_pages']].iloc[7]\n",
    "df10 = df[['text_by_page','n_pages']].iloc[8]\n",
    "df11 = df[['text_by_page','n_pages']].iloc[9]\n",
    "df12 = df[['text_by_page','n_pages']].iloc[10]\n",
    "df13 = df[['text_by_page','n_pages']].iloc[11]\n",
    "df14 = df[['text_by_page','n_pages']].iloc[12]\n",
    "df15 = df[['text_by_page','n_pages']].iloc[13]\n",
    "df16 = df[['text_by_page','n_pages']].iloc[14]\n",
    "df17 = df[['text_by_page','n_pages']].iloc[15]\n",
    "df18 = df[['text_by_page','n_pages']].iloc[16]\n",
    "df19 = df[['text_by_page','n_pages']].iloc[17]\n",
    "df20 = df[['text_by_page','n_pages']].iloc[18]\n",
    "df21 = df[['text_by_page','n_pages']].iloc[19]\n",
    "df22 = df[['text_by_page','n_pages']].iloc[20]\n",
    "df23 = df[['text_by_page','n_pages']].iloc[21]\n",
    "df24 = df[['text_by_page','n_pages']].iloc[22]\n",
    "df25 = df[['text_by_page','n_pages']].iloc[23]\n",
    "df26 = df[['text_by_page','n_pages']].iloc[24]\n",
    "df27 = df[['text_by_page','n_pages']].iloc[25]\n",
    "df28 = df[['text_by_page','n_pages']].iloc[26]\n",
    "df29 = df[['text_by_page','n_pages']].iloc[27]\n",
    "df30 = df[['text_by_page','n_pages']].iloc[28]\n",
    "df31 = df[['text_by_page','n_pages']].iloc[29]\n",
    "df32 = df[['text_by_page','n_pages']].iloc[30]\n",
    "df33 = df[['text_by_page','n_pages']].iloc[31]\n",
    "df34 = df[['text_by_page','n_pages']].iloc[32]\n",
    "df35 = df[['text_by_page','n_pages']].iloc[33]\n",
    "df36 = df[['text_by_page','n_pages']].iloc[34]\n",
    "df37 = df[['text_by_page','n_pages']].iloc[35]\n",
    "df38 = df[['text_by_page','n_pages']].iloc[36]\n",
    "df39 = df[['text_by_page','n_pages']].iloc[37]\n",
    "df40 = df[['text_by_page','n_pages']].iloc[38]\n",
    "df41 = df[['text_by_page','n_pages']].iloc[39]\n",
    "df42 = df[['text_by_page','n_pages']].iloc[40]\n",
    "df43 = df[['text_by_page','n_pages']].iloc[41]\n",
    "df44 = df[['text_by_page','n_pages']].iloc[42]\n",
    "df45 = df[['text_by_page','n_pages']].iloc[43]\n",
    "df46 = df[['text_by_page','n_pages']].iloc[44]\n",
    "df47 = df[['text_by_page','n_pages']].iloc[45]\n",
    "df48 = df[['text_by_page','n_pages']].iloc[46]\n",
    "df49 = df[['text_by_page','n_pages']].iloc[47]\n",
    "df50 = df[['text_by_page','n_pages']].iloc[48]\n",
    "df51 = df[['text_by_page','n_pages']].iloc[49]\n",
    "df52 = df[['text_by_page','n_pages']].iloc[50]\n",
    "df53 = df[['text_by_page','n_pages']].iloc[51]\n",
    "df54 = df[['text_by_page','n_pages']].iloc[52]\n",
    "df55 = df[['text_by_page','n_pages']].iloc[53]\n",
    "df56 = df[['text_by_page','n_pages']].iloc[54]\n",
    "df57 = df[['text_by_page','n_pages']].iloc[55]\n",
    "df58 = df[['text_by_page','n_pages']].iloc[56]\n",
    "df59 = df[['text_by_page','n_pages']].iloc[57]\n",
    "df60 = df[['text_by_page','n_pages']].iloc[58]\n",
    "df61 = df[['text_by_page','n_pages']].iloc[59]\n",
    "df62 = df[['text_by_page','n_pages']].iloc[60]\n",
    "df63 = df[['text_by_page','n_pages']].iloc[61]\n",
    "df64 = df[['text_by_page','n_pages']].iloc[62]\n",
    "df65 = df[['text_by_page','n_pages']].iloc[63]\n",
    "df66 = df[['text_by_page','n_pages']].iloc[64]\n",
    "df67 = df[['text_by_page','n_pages']].iloc[65]\n",
    "df68 = df[['text_by_page','n_pages']].iloc[66]\n",
    "df69 = df[['text_by_page','n_pages']].iloc[67]\n",
    "df70 = df[['text_by_page','n_pages']].iloc[68]\n",
    "df71 = df[['text_by_page','n_pages']].iloc[69]\n",
    "df72 = df[['text_by_page','n_pages']].iloc[70]\n",
    "df73 = df[['text_by_page','n_pages']].iloc[71]\n",
    "df74 = df[['text_by_page','n_pages']].iloc[72]\n",
    "df75 = df[['text_by_page','n_pages']].iloc[73]\n",
    "df76 = df[['text_by_page','n_pages']].iloc[74]\n",
    "df77 = df[['text_by_page','n_pages']].iloc[75]\n"
   ]
  },
  {
   "cell_type": "code",
   "execution_count": 48,
   "id": "9f2ec4c9-9d0d-4872-925f-3570bf3713ab",
   "metadata": {},
   "outputs": [],
   "source": [
    "df78 = df[['text_by_page','n_pages']].iloc[76]\n",
    "df79 = df[['text_by_page','n_pages']].iloc[77]\n",
    "df80 = df[['text_by_page','n_pages']].iloc[78]\n",
    "df81 = df[['text_by_page','n_pages']].iloc[79]\n",
    "df82 = df[['text_by_page','n_pages']].iloc[80]\n",
    "df83 = df[['text_by_page','n_pages']].iloc[81]\n",
    "df84 = df[['text_by_page','n_pages']].iloc[82]\n",
    "df85 = df[['text_by_page','n_pages']].iloc[83]\n",
    "df86 = df[['text_by_page','n_pages']].iloc[84]\n",
    "df87 = df[['text_by_page','n_pages']].iloc[85]\n",
    "df88 = df[['text_by_page','n_pages']].iloc[86]\n",
    "df89 = df[['text_by_page','n_pages']].iloc[87]\n",
    "df90 = df[['text_by_page','n_pages']].iloc[88]\n",
    "df91 = df[['text_by_page','n_pages']].iloc[89]\n",
    "df92 = df[['text_by_page','n_pages']].iloc[90]\n",
    "df93 = df[['text_by_page','n_pages']].iloc[91]\n",
    "df94 = df[['text_by_page','n_pages']].iloc[92]\n",
    "df95 = df[['text_by_page','n_pages']].iloc[93]\n",
    "df96 = df[['text_by_page','n_pages']].iloc[94]\n",
    "df97 = df[['text_by_page','n_pages']].iloc[95]\n",
    "df98 = df[['text_by_page','n_pages']].iloc[96]\n",
    "df99 = df[['text_by_page','n_pages']].iloc[97]\n",
    "df100 = df[['text_by_page','n_pages']].iloc[98]\n",
    "df101 = df[['text_by_page','n_pages']].iloc[99]\n",
    "df102 = df[['text_by_page','n_pages']].iloc[100]\n",
    "df103 = df[['text_by_page','n_pages']].iloc[101]\n",
    "df104 = df[['text_by_page','n_pages']].iloc[102]\n",
    "df105 = df[['text_by_page','n_pages']].iloc[103]\n",
    "df106 = df[['text_by_page','n_pages']].iloc[104]\n",
    "df107 = df[['text_by_page','n_pages']].iloc[105]\n",
    "df108 = df[['text_by_page','n_pages']].iloc[106]\n",
    "df109 = df[['text_by_page','n_pages']].iloc[107]\n",
    "df110 = df[['text_by_page','n_pages']].iloc[108]\n",
    "df111 = df[['text_by_page','n_pages']].iloc[109]\n",
    "df112 = df[['text_by_page','n_pages']].iloc[110]\n",
    "df113 = df[['text_by_page','n_pages']].iloc[111]\n",
    "df114 = df[['text_by_page','n_pages']].iloc[112]\n",
    "df115 = df[['text_by_page','n_pages']].iloc[113]\n",
    "df116 = df[['text_by_page','n_pages']].iloc[114]\n",
    "df117 = df[['text_by_page','n_pages']].iloc[115]\n",
    "df118 = df[['text_by_page','n_pages']].iloc[116]\n",
    "df119 = df[['text_by_page','n_pages']].iloc[117]\n",
    "df120 = df[['text_by_page','n_pages']].iloc[118]\n",
    "df121 = df[['text_by_page','n_pages']].iloc[119]\n",
    "df122 = df[['text_by_page','n_pages']].iloc[120]\n",
    "df123 = df[['text_by_page','n_pages']].iloc[121]\n",
    "df124 = df[['text_by_page','n_pages']].iloc[122]\n",
    "df125 = df[['text_by_page','n_pages']].iloc[123]\n",
    "df126 = df[['text_by_page','n_pages']].iloc[124]\n",
    "df127 = df[['text_by_page','n_pages']].iloc[125]\n",
    "df128 = df[['text_by_page','n_pages']].iloc[126]\n",
    "df129 = df[['text_by_page','n_pages']].iloc[127]\n",
    "df130 = df[['text_by_page','n_pages']].iloc[128]\n",
    "df131 = df[['text_by_page','n_pages']].iloc[129]\n",
    "df132 = df[['text_by_page','n_pages']].iloc[130]\n"
   ]
  },
  {
   "cell_type": "code",
   "execution_count": 52,
   "id": "2dcd45b1-204a-4e33-8cea-7a26f6a90c41",
   "metadata": {},
   "outputs": [],
   "source": [
    "df8.to_csv('df8.csv')\n",
    "df9.to_csv('df9.csv')\n",
    "df10.to_csv('df10.csv')\n",
    "df11.to_csv('df11.csv')\n",
    "df12.to_csv('df12.csv')\n",
    "df13.to_csv('df13.csv')\n",
    "df14.to_csv('df14.csv')\n",
    "df15.to_csv('df15.csv')\n",
    "df16.to_csv('df16.csv')\n",
    "df17.to_csv('df17.csv')\n",
    "df18.to_csv('df18.csv')\n",
    "df19.to_csv('df19.csv')\n",
    "df20.to_csv('df20.csv')\n",
    "df21.to_csv('df21.csv')\n",
    "df22.to_csv('df22.csv')\n",
    "df23.to_csv('df23.csv')\n",
    "df24.to_csv('df24.csv')\n",
    "df25.to_csv('df25.csv')\n",
    "df26.to_csv('df26.csv')\n",
    "df27.to_csv('df27.csv')\n",
    "df28.to_csv('df28.csv')\n",
    "df29.to_csv('df29.csv')\n",
    "df30.to_csv('df30.csv')\n",
    "df31.to_csv('df31.csv')\n",
    "df32.to_csv('df32.csv')\n",
    "df33.to_csv('df33.csv')\n",
    "df34.to_csv('df34.csv')\n",
    "df35.to_csv('df35.csv')\n",
    "df36.to_csv('df36.csv')\n",
    "df37.to_csv('df37.csv')\n",
    "df38.to_csv('df38.csv')\n",
    "df39.to_csv('df39.csv')\n",
    "df40.to_csv('df40.csv')\n",
    "df41.to_csv('df41.csv')\n",
    "df42.to_csv('df42.csv')\n",
    "df43.to_csv('df43.csv')\n",
    "df44.to_csv('df44.csv')\n",
    "df45.to_csv('df45.csv')\n",
    "df46.to_csv('df46.csv')\n",
    "df47.to_csv('df47.csv')\n",
    "df48.to_csv('df48.csv')\n",
    "df49.to_csv('df49.csv')\n",
    "df50.to_csv('df50.csv')\n",
    "df51.to_csv('df51.csv')\n",
    "df52.to_csv('df52.csv')\n",
    "df53.to_csv('df53.csv')\n",
    "df54.to_csv('df54.csv')\n",
    "df55.to_csv('df55.csv')\n",
    "df56.to_csv('df56.csv')\n",
    "df57.to_csv('df57.csv')\n",
    "df58.to_csv('df58.csv')\n",
    "df59.to_csv('df59.csv')\n",
    "df60.to_csv('df60.csv')\n",
    "df61.to_csv('df61.csv')\n"
   ]
  },
  {
   "cell_type": "code",
   "execution_count": 53,
   "id": "42e2ac70-38c2-422f-a799-01790eeb8087",
   "metadata": {},
   "outputs": [],
   "source": [
    "df62.to_csv('df62.csv')\n",
    "df63.to_csv('df63.csv')\n",
    "df64.to_csv('df64.csv')\n",
    "df65.to_csv('df65.csv')\n",
    "df66.to_csv('df66.csv')\n",
    "df67.to_csv('df67.csv')\n",
    "df68.to_csv('df68.csv')\n",
    "df69.to_csv('df69.csv')\n",
    "df70.to_csv('df70.csv')\n",
    "df71.to_csv('df71.csv')\n",
    "df72.to_csv('df72.csv')\n",
    "df73.to_csv('df73.csv')\n",
    "df74.to_csv('df74.csv')\n",
    "df75.to_csv('df75.csv')\n",
    "df76.to_csv('df76.csv')\n",
    "df77.to_csv('df77.csv')\n",
    "df78.to_csv('df78.csv')\n",
    "df79.to_csv('df79.csv')\n",
    "df80.to_csv('df80.csv')\n",
    "df81.to_csv('df81.csv')\n",
    "df82.to_csv('df82.csv')\n",
    "df83.to_csv('df83.csv')\n",
    "df84.to_csv('df84.csv')\n",
    "df85.to_csv('df85.csv')\n",
    "df86.to_csv('df86.csv')\n",
    "df87.to_csv('df87.csv')\n",
    "df88.to_csv('df88.csv')\n",
    "df89.to_csv('df89.csv')\n",
    "df90.to_csv('df90.csv')\n",
    "df91.to_csv('df91.csv')\n",
    "df92.to_csv('df92.csv')\n",
    "df93.to_csv('df93.csv')\n",
    "df94.to_csv('df94.csv')\n",
    "df95.to_csv('df95.csv')\n",
    "df96.to_csv('df96.csv')\n",
    "df97.to_csv('df97.csv')\n",
    "df98.to_csv('df98.csv')\n",
    "df99.to_csv('df99.csv')\n",
    "df100.to_csv('df100.csv')\n",
    "df101.to_csv('df101.csv')\n",
    "df102.to_csv('df102.csv')\n",
    "df103.to_csv('df103.csv')\n",
    "df104.to_csv('df104.csv')\n",
    "df105.to_csv('df105.csv')\n",
    "df106.to_csv('df106.csv')\n",
    "df107.to_csv('df107.csv')\n",
    "df108.to_csv('df108.csv')\n",
    "df109.to_csv('df109.csv')\n",
    "df110.to_csv('df110.csv')\n",
    "df111.to_csv('df111.csv')\n",
    "df112.to_csv('df112.csv')\n",
    "df113.to_csv('df113.csv')\n",
    "df114.to_csv('df114.csv')\n",
    "df115.to_csv('df115.csv')\n",
    "df116.to_csv('df116.csv')\n",
    "df117.to_csv('df117.csv')\n",
    "df118.to_csv('df118.csv')\n",
    "df119.to_csv('df119.csv')\n",
    "df120.to_csv('df120.csv')\n",
    "df121.to_csv('df121.csv')\n",
    "df122.to_csv('df122.csv')\n",
    "df123.to_csv('df123.csv')\n",
    "df124.to_csv('df124.csv')\n",
    "df125.to_csv('df125.csv')\n",
    "df126.to_csv('df126.csv')\n",
    "df127.to_csv('df127.csv')\n",
    "df128.to_csv('df128.csv')\n",
    "df129.to_csv('df129.csv')\n",
    "df130.to_csv('df130.csv')\n",
    "df131.to_csv('df131.csv')\n",
    "df132.to_csv('df132.csv')\n",
    "\n"
   ]
  },
  {
   "cell_type": "code",
   "execution_count": null,
   "id": "edd82c3c-5883-4249-b1d4-794b36a75a1c",
   "metadata": {},
   "outputs": [],
   "source": []
  }
 ],
 "metadata": {
  "kernelspec": {
   "display_name": "Python 3 (ipykernel)",
   "language": "python",
   "name": "python3"
  },
  "language_info": {
   "codemirror_mode": {
    "name": "ipython",
    "version": 3
   },
   "file_extension": ".py",
   "mimetype": "text/x-python",
   "name": "python",
   "nbconvert_exporter": "python",
   "pygments_lexer": "ipython3",
   "version": "3.9.13"
  }
 },
 "nbformat": 4,
 "nbformat_minor": 5
}
